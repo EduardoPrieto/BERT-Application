{
  "nbformat": 4,
  "nbformat_minor": 0,
  "metadata": {
    "colab": {
      "name": "compu.ipynb",
      "provenance": [],
      "authorship_tag": "ABX9TyPf9JKAZhN/BtzkOkbjjRTS",
      "include_colab_link": true
    },
    "kernelspec": {
      "name": "python3",
      "display_name": "Python 3"
    },
    "language_info": {
      "name": "python"
    },
    "widgets": {
      "application/vnd.jupyter.widget-state+json": {
        "bdbda3ab0a454149b3336027a0cb1aa1": {
          "model_module": "@jupyter-widgets/controls",
          "model_name": "HBoxModel",
          "state": {
            "_view_name": "HBoxView",
            "_dom_classes": [],
            "_model_name": "HBoxModel",
            "_view_module": "@jupyter-widgets/controls",
            "_model_module_version": "1.5.0",
            "_view_count": null,
            "_view_module_version": "1.5.0",
            "box_style": "",
            "layout": "IPY_MODEL_5ffbc6e9822747e6a995eb8527e5b187",
            "_model_module": "@jupyter-widgets/controls",
            "children": [
              "IPY_MODEL_721139fc9a8445aa8dcdd67af6901494",
              "IPY_MODEL_9a7a5e2b62f441d68cbbaedf745c358e",
              "IPY_MODEL_46e36c3b25eb4513b3efb44e96858d71"
            ]
          },
          "model_module_version": "1.5.0"
        },
        "5ffbc6e9822747e6a995eb8527e5b187": {
          "model_module": "@jupyter-widgets/base",
          "model_name": "LayoutModel",
          "state": {
            "_view_name": "LayoutView",
            "grid_template_rows": null,
            "right": null,
            "justify_content": null,
            "_view_module": "@jupyter-widgets/base",
            "overflow": null,
            "_model_module_version": "1.2.0",
            "_view_count": null,
            "flex_flow": null,
            "width": null,
            "min_width": null,
            "border": null,
            "align_items": null,
            "bottom": null,
            "_model_module": "@jupyter-widgets/base",
            "top": null,
            "grid_column": null,
            "overflow_y": null,
            "overflow_x": null,
            "grid_auto_flow": null,
            "grid_area": null,
            "grid_template_columns": null,
            "flex": null,
            "_model_name": "LayoutModel",
            "justify_items": null,
            "grid_row": null,
            "max_height": null,
            "align_content": null,
            "visibility": null,
            "align_self": null,
            "height": null,
            "min_height": null,
            "padding": null,
            "grid_auto_rows": null,
            "grid_gap": null,
            "max_width": null,
            "order": null,
            "_view_module_version": "1.2.0",
            "grid_template_areas": null,
            "object_position": null,
            "object_fit": null,
            "grid_auto_columns": null,
            "margin": null,
            "display": null,
            "left": null
          },
          "model_module_version": "1.2.0"
        },
        "721139fc9a8445aa8dcdd67af6901494": {
          "model_module": "@jupyter-widgets/controls",
          "model_name": "HTMLModel",
          "state": {
            "_view_name": "HTMLView",
            "style": "IPY_MODEL_fa4d55ff8de34fec9d960b4f3825d26c",
            "_dom_classes": [],
            "description": "",
            "_model_name": "HTMLModel",
            "placeholder": "​",
            "_view_module": "@jupyter-widgets/controls",
            "_model_module_version": "1.5.0",
            "value": "100%",
            "_view_count": null,
            "_view_module_version": "1.5.0",
            "description_tooltip": null,
            "_model_module": "@jupyter-widgets/controls",
            "layout": "IPY_MODEL_94cff74b2b644429b880109be85f51ae"
          },
          "model_module_version": "1.5.0"
        },
        "9a7a5e2b62f441d68cbbaedf745c358e": {
          "model_module": "@jupyter-widgets/controls",
          "model_name": "FloatProgressModel",
          "state": {
            "_view_name": "ProgressView",
            "style": "IPY_MODEL_36be939190e84e999b3ce3509029d32e",
            "_dom_classes": [],
            "description": "",
            "_model_name": "FloatProgressModel",
            "bar_style": "success",
            "max": 4,
            "_view_module": "@jupyter-widgets/controls",
            "_model_module_version": "1.5.0",
            "value": 4,
            "_view_count": null,
            "_view_module_version": "1.5.0",
            "orientation": "horizontal",
            "min": 0,
            "description_tooltip": null,
            "_model_module": "@jupyter-widgets/controls",
            "layout": "IPY_MODEL_0723e5392b334dfc8e0d741fc58c384c"
          },
          "model_module_version": "1.5.0"
        },
        "46e36c3b25eb4513b3efb44e96858d71": {
          "model_module": "@jupyter-widgets/controls",
          "model_name": "HTMLModel",
          "state": {
            "_view_name": "HTMLView",
            "style": "IPY_MODEL_e3eb89bae21844a8b53fb39533350459",
            "_dom_classes": [],
            "description": "",
            "_model_name": "HTMLModel",
            "placeholder": "​",
            "_view_module": "@jupyter-widgets/controls",
            "_model_module_version": "1.5.0",
            "value": " 4/4 [00:00&lt;00:00, 66.32ba/s]",
            "_view_count": null,
            "_view_module_version": "1.5.0",
            "description_tooltip": null,
            "_model_module": "@jupyter-widgets/controls",
            "layout": "IPY_MODEL_f7aa833e2ec24a83b80fe5c0e4c8a8d3"
          },
          "model_module_version": "1.5.0"
        },
        "fa4d55ff8de34fec9d960b4f3825d26c": {
          "model_module": "@jupyter-widgets/controls",
          "model_name": "DescriptionStyleModel",
          "state": {
            "_view_name": "StyleView",
            "_model_name": "DescriptionStyleModel",
            "description_width": "",
            "_view_module": "@jupyter-widgets/base",
            "_model_module_version": "1.5.0",
            "_view_count": null,
            "_view_module_version": "1.2.0",
            "_model_module": "@jupyter-widgets/controls"
          },
          "model_module_version": "1.5.0"
        },
        "94cff74b2b644429b880109be85f51ae": {
          "model_module": "@jupyter-widgets/base",
          "model_name": "LayoutModel",
          "state": {
            "_view_name": "LayoutView",
            "grid_template_rows": null,
            "right": null,
            "justify_content": null,
            "_view_module": "@jupyter-widgets/base",
            "overflow": null,
            "_model_module_version": "1.2.0",
            "_view_count": null,
            "flex_flow": null,
            "width": null,
            "min_width": null,
            "border": null,
            "align_items": null,
            "bottom": null,
            "_model_module": "@jupyter-widgets/base",
            "top": null,
            "grid_column": null,
            "overflow_y": null,
            "overflow_x": null,
            "grid_auto_flow": null,
            "grid_area": null,
            "grid_template_columns": null,
            "flex": null,
            "_model_name": "LayoutModel",
            "justify_items": null,
            "grid_row": null,
            "max_height": null,
            "align_content": null,
            "visibility": null,
            "align_self": null,
            "height": null,
            "min_height": null,
            "padding": null,
            "grid_auto_rows": null,
            "grid_gap": null,
            "max_width": null,
            "order": null,
            "_view_module_version": "1.2.0",
            "grid_template_areas": null,
            "object_position": null,
            "object_fit": null,
            "grid_auto_columns": null,
            "margin": null,
            "display": null,
            "left": null
          },
          "model_module_version": "1.2.0"
        },
        "36be939190e84e999b3ce3509029d32e": {
          "model_module": "@jupyter-widgets/controls",
          "model_name": "ProgressStyleModel",
          "state": {
            "_view_name": "StyleView",
            "_model_name": "ProgressStyleModel",
            "description_width": "",
            "_view_module": "@jupyter-widgets/base",
            "_model_module_version": "1.5.0",
            "_view_count": null,
            "_view_module_version": "1.2.0",
            "bar_color": null,
            "_model_module": "@jupyter-widgets/controls"
          },
          "model_module_version": "1.5.0"
        },
        "0723e5392b334dfc8e0d741fc58c384c": {
          "model_module": "@jupyter-widgets/base",
          "model_name": "LayoutModel",
          "state": {
            "_view_name": "LayoutView",
            "grid_template_rows": null,
            "right": null,
            "justify_content": null,
            "_view_module": "@jupyter-widgets/base",
            "overflow": null,
            "_model_module_version": "1.2.0",
            "_view_count": null,
            "flex_flow": null,
            "width": null,
            "min_width": null,
            "border": null,
            "align_items": null,
            "bottom": null,
            "_model_module": "@jupyter-widgets/base",
            "top": null,
            "grid_column": null,
            "overflow_y": null,
            "overflow_x": null,
            "grid_auto_flow": null,
            "grid_area": null,
            "grid_template_columns": null,
            "flex": null,
            "_model_name": "LayoutModel",
            "justify_items": null,
            "grid_row": null,
            "max_height": null,
            "align_content": null,
            "visibility": null,
            "align_self": null,
            "height": null,
            "min_height": null,
            "padding": null,
            "grid_auto_rows": null,
            "grid_gap": null,
            "max_width": null,
            "order": null,
            "_view_module_version": "1.2.0",
            "grid_template_areas": null,
            "object_position": null,
            "object_fit": null,
            "grid_auto_columns": null,
            "margin": null,
            "display": null,
            "left": null
          },
          "model_module_version": "1.2.0"
        },
        "e3eb89bae21844a8b53fb39533350459": {
          "model_module": "@jupyter-widgets/controls",
          "model_name": "DescriptionStyleModel",
          "state": {
            "_view_name": "StyleView",
            "_model_name": "DescriptionStyleModel",
            "description_width": "",
            "_view_module": "@jupyter-widgets/base",
            "_model_module_version": "1.5.0",
            "_view_count": null,
            "_view_module_version": "1.2.0",
            "_model_module": "@jupyter-widgets/controls"
          },
          "model_module_version": "1.5.0"
        },
        "f7aa833e2ec24a83b80fe5c0e4c8a8d3": {
          "model_module": "@jupyter-widgets/base",
          "model_name": "LayoutModel",
          "state": {
            "_view_name": "LayoutView",
            "grid_template_rows": null,
            "right": null,
            "justify_content": null,
            "_view_module": "@jupyter-widgets/base",
            "overflow": null,
            "_model_module_version": "1.2.0",
            "_view_count": null,
            "flex_flow": null,
            "width": null,
            "min_width": null,
            "border": null,
            "align_items": null,
            "bottom": null,
            "_model_module": "@jupyter-widgets/base",
            "top": null,
            "grid_column": null,
            "overflow_y": null,
            "overflow_x": null,
            "grid_auto_flow": null,
            "grid_area": null,
            "grid_template_columns": null,
            "flex": null,
            "_model_name": "LayoutModel",
            "justify_items": null,
            "grid_row": null,
            "max_height": null,
            "align_content": null,
            "visibility": null,
            "align_self": null,
            "height": null,
            "min_height": null,
            "padding": null,
            "grid_auto_rows": null,
            "grid_gap": null,
            "max_width": null,
            "order": null,
            "_view_module_version": "1.2.0",
            "grid_template_areas": null,
            "object_position": null,
            "object_fit": null,
            "grid_auto_columns": null,
            "margin": null,
            "display": null,
            "left": null
          },
          "model_module_version": "1.2.0"
        }
      }
    }
  },
  "cells": [
    {
      "cell_type": "markdown",
      "metadata": {
        "id": "view-in-github",
        "colab_type": "text"
      },
      "source": [
        "<a href=\"https://colab.research.google.com/github/EduardoPrieto/BERT-Application/blob/master/compu.ipynb\" target=\"_parent\"><img src=\"https://colab.research.google.com/assets/colab-badge.svg\" alt=\"Open In Colab\"/></a>"
      ]
    },
    {
      "cell_type": "code",
      "metadata": {
        "id": "sLAdMKce6glT"
      },
      "source": [
        "import requests\n",
        "from bs4 import BeautifulSoup"
      ],
      "execution_count": null,
      "outputs": []
    },
    {
      "cell_type": "code",
      "metadata": {
        "id": "GRLRJRXx6lYc"
      },
      "source": [
        "url = 'https://www.computrabajo.com.co/empresas/evaluaciones-en-productos-la-victoria-98578DF477E2F4E0'\n",
        "url = 'https://www.computrabajo.com.co/empresas/evaluaciones-en-coorserpark-sas-67E586684928CF8C'"
      ],
      "execution_count": null,
      "outputs": []
    },
    {
      "cell_type": "code",
      "metadata": {
        "id": "DFDVbm_CrrxC"
      },
      "source": [
        "\n",
        "def scrap(url):\n",
        "  lista = []\n",
        "  comments = []\n",
        "  evaluacion = {}\n",
        "  \n",
        "  # Hace la solicitud a la url\n",
        "  compu = requests.get(url)\n",
        "  s = BeautifulSoup(compu.text, 'lxml')\n",
        "  # Guarda la sección de evaluaciones\n",
        "  secciones = s.find('ul', attrs={'class':'p0 m0'}).find_all('li', attrs={'class':'fl w_100 pb20 mb30 pb15_r mb15_r '})\n",
        "  #puesto\n",
        "  lista_evaluaciones = []\n",
        "  for seccion in secciones:\n",
        "    evaluacion = {}\n",
        "    evaluacion['puesto'] = (seccion.find('p', attrs={'class':'fs18 fw_b f_i tablec_i w_66 pr10 pl40'}).text).strip()\n",
        "    mini_seccion = seccion.find('p', attrs={'class':'fc80 fl w_100 fs13 mt5'}).text\n",
        "    x = mini_seccion.split('·')\n",
        "    evaluacion['estado'] = x[0].strip()\n",
        "    evaluacion['ubicacion'] = x[1].strip()\n",
        "    evaluacion['fecha'] = x[2].strip()\n",
        "    evaluacion['comentario'] = seccion.find('p', attrs={'class':'fl w_100 comentario bWord'}).text\n",
        "    lista_aspectos = seccion.find_all('span', attrs={'class':'fl100'})\n",
        "    aspectos = [item.text for item in lista_aspectos]\n",
        "    if(len(aspectos) == 0):\n",
        "      evaluacion['bueno'] = 'Vacio'\n",
        "      evaluacion['mejorar'] = 'nada'\n",
        "    elif(len(aspectos) == 2):\n",
        "      if(aspectos[0] == 'Lo mejor'):\n",
        "        evaluacion['bueno'] = aspectos[1]\n",
        "        evaluacion['mejorar'] = 'nada'\n",
        "      else:\n",
        "        evaluacion['bueno'] = aspectos[1]\n",
        "        evaluacion['mejorar'] = 'nada'\n",
        "    else:\n",
        "      evaluacion['bueno'] = aspectos[1]\n",
        "      evaluacion['mejorar'] = aspectos[3]\n",
        "    lista.append(evaluacion)\n",
        "  #print(lista_evaluaciones)\n",
        "\n",
        "  comments.extend([seccion.find('p', attrs={'class':'fl w_100 comentario bWord'}).text for seccion in secciones])\n",
        "  next = s.find('a', attrs={'rel':'next'})\n",
        "  while(next):\n",
        "    url = next.get('href')\n",
        "    compu = requests.get(url)\n",
        "    s = BeautifulSoup(compu.text, 'lxml')\n",
        "    secciones = s.find('ul', attrs={'class':'p0 m0'}).find_all('li', attrs={'class':'fl w_100 pb20 mb30 pb15_r mb15_r '})\n",
        "    for seccion in secciones:\n",
        "      evaluacion = {}\n",
        "      evaluacion['puesto'] = (seccion.find('p', attrs={'class':'fs18 fw_b f_i tablec_i w_66 pr10 pl40'}).text).strip()\n",
        "      mini_seccion = seccion.find('p', attrs={'class':'fc80 fl w_100 fs13 mt5'}).text\n",
        "      x = mini_seccion.split('·')\n",
        "      evaluacion['estado'] = x[0].strip()\n",
        "      evaluacion['ubicacion'] = x[1].strip()\n",
        "      evaluacion['fecha'] = x[2].strip()\n",
        "      evaluacion['comentario'] = seccion.find('p', attrs={'class':'fl w_100 comentario bWord'}).text\n",
        "      lista_aspectos = seccion.find_all('span', attrs={'class':'fl100'})\n",
        "      aspectos = [item.text for item in lista_aspectos]\n",
        "      if(len(aspectos) == 0):\n",
        "        evaluacion['bueno'] = 'Vacio'\n",
        "        evaluacion['mejorar'] = 'nada'\n",
        "      elif(len(aspectos) == 2):\n",
        "        if(aspectos[0] == 'Lo mejor'):\n",
        "          evaluacion['bueno'] = aspectos[1]\n",
        "          evaluacion['mejorar'] = 'nada'\n",
        "        else:\n",
        "          evaluacion['bueno'] = aspectos[1]\n",
        "          evaluacion['mejorar'] = 'nada'\n",
        "      else:\n",
        "        evaluacion['bueno'] = aspectos[1]\n",
        "        evaluacion['mejorar'] = aspectos[3]\n",
        "      lista.append(evaluacion)\n",
        "    \n",
        "      \n",
        "\n",
        "    \n",
        "    comments.extend([seccion.find('p', attrs={'class':'fl w_100 comentario bWord'}).text for seccion in secciones])\n",
        "    next = s.find('a', attrs={'rel':'next'})\n",
        "  lista_evaluaciones.append(comments)\n",
        "  lista_evaluaciones.append(lista)\n",
        "  return lista_evaluaciones\n",
        "\n",
        "lista = scrap(url)"
      ],
      "execution_count": null,
      "outputs": []
    },
    {
      "cell_type": "code",
      "metadata": {
        "id": "bZKKIN3hlLFy"
      },
      "source": [
        "comentarios = lista[0]\n",
        "evaluaciones = lista[1]\n"
      ],
      "execution_count": null,
      "outputs": []
    },
    {
      "cell_type": "markdown",
      "metadata": {
        "id": "Qu9ncDf36JKt"
      },
      "source": [
        "# pysentimiento: A transformer-based Sentiment Analysis library for Spanish\n",
        "\n",
        "En esta notebook mostramos un breve ejemplo de cómo usar [pysentimiento](https://github.com/finiteautomata/pysentimiento/), una librería de análisis de sentimiento en Español.\n",
        "\n",
        "`pysentimiento` es un pequeño wrapper sobre modelos pre-entrenados de [transformers](https://github.com/huggingface/transformers), usando la implementación de BERT en Español, [BETO](https://github.com/dccuchile/beto) y los datos de la versión 2020 del [Taller de Análisis de Sentimiento (TASS) de la Sociedad Española de Procesamiento de Lenguaje Natural (SEPLN)](http://tass.sepln.org/2020/?page_id=74)\n",
        "\n",
        "Primero, instalamos la librería"
      ]
    },
    {
      "cell_type": "code",
      "metadata": {
        "id": "l4hKIMITImDM",
        "colab": {
          "base_uri": "https://localhost:8080/"
        },
        "outputId": "9ff99fad-8357-4f29-8d9f-def908b219f8"
      },
      "source": [
        "!pip install pysentimiento"
      ],
      "execution_count": null,
      "outputs": [
        {
          "output_type": "stream",
          "text": [
            "Requirement already satisfied: pysentimiento in /usr/local/lib/python3.7/dist-packages (0.2.5)\n",
            "Requirement already satisfied: transformers in /usr/local/lib/python3.7/dist-packages (from pysentimiento) (4.9.1)\n",
            "Requirement already satisfied: torch in /usr/local/lib/python3.7/dist-packages (from pysentimiento) (1.9.0+cu102)\n",
            "Requirement already satisfied: sklearn in /usr/local/lib/python3.7/dist-packages (from pysentimiento) (0.0)\n",
            "Requirement already satisfied: emoji in /usr/local/lib/python3.7/dist-packages (from pysentimiento) (1.4.1)\n",
            "Requirement already satisfied: datasets in /usr/local/lib/python3.7/dist-packages (from pysentimiento) (1.10.2)\n",
            "Requirement already satisfied: requests>=2.19.0 in /usr/local/lib/python3.7/dist-packages (from datasets->pysentimiento) (2.23.0)\n",
            "Requirement already satisfied: importlib-metadata in /usr/local/lib/python3.7/dist-packages (from datasets->pysentimiento) (4.6.1)\n",
            "Requirement already satisfied: pyarrow!=4.0.0,>=1.0.0 in /usr/local/lib/python3.7/dist-packages (from datasets->pysentimiento) (3.0.0)\n",
            "Requirement already satisfied: tqdm>=4.42 in /usr/local/lib/python3.7/dist-packages (from datasets->pysentimiento) (4.61.2)\n",
            "Requirement already satisfied: pandas in /usr/local/lib/python3.7/dist-packages (from datasets->pysentimiento) (1.1.5)\n",
            "Requirement already satisfied: fsspec>=2021.05.0 in /usr/local/lib/python3.7/dist-packages (from datasets->pysentimiento) (2021.7.0)\n",
            "Requirement already satisfied: dill in /usr/local/lib/python3.7/dist-packages (from datasets->pysentimiento) (0.3.4)\n",
            "Requirement already satisfied: multiprocess in /usr/local/lib/python3.7/dist-packages (from datasets->pysentimiento) (0.70.12.2)\n",
            "Requirement already satisfied: huggingface-hub<0.1.0 in /usr/local/lib/python3.7/dist-packages (from datasets->pysentimiento) (0.0.12)\n",
            "Requirement already satisfied: packaging in /usr/local/lib/python3.7/dist-packages (from datasets->pysentimiento) (21.0)\n",
            "Requirement already satisfied: xxhash in /usr/local/lib/python3.7/dist-packages (from datasets->pysentimiento) (2.0.2)\n",
            "Requirement already satisfied: numpy>=1.17 in /usr/local/lib/python3.7/dist-packages (from datasets->pysentimiento) (1.19.5)\n",
            "Requirement already satisfied: typing-extensions in /usr/local/lib/python3.7/dist-packages (from huggingface-hub<0.1.0->datasets->pysentimiento) (3.7.4.3)\n",
            "Requirement already satisfied: filelock in /usr/local/lib/python3.7/dist-packages (from huggingface-hub<0.1.0->datasets->pysentimiento) (3.0.12)\n",
            "Requirement already satisfied: pyparsing>=2.0.2 in /usr/local/lib/python3.7/dist-packages (from packaging->datasets->pysentimiento) (2.4.7)\n",
            "Requirement already satisfied: idna<3,>=2.5 in /usr/local/lib/python3.7/dist-packages (from requests>=2.19.0->datasets->pysentimiento) (2.10)\n",
            "Requirement already satisfied: chardet<4,>=3.0.2 in /usr/local/lib/python3.7/dist-packages (from requests>=2.19.0->datasets->pysentimiento) (3.0.4)\n",
            "Requirement already satisfied: urllib3!=1.25.0,!=1.25.1,<1.26,>=1.21.1 in /usr/local/lib/python3.7/dist-packages (from requests>=2.19.0->datasets->pysentimiento) (1.24.3)\n",
            "Requirement already satisfied: certifi>=2017.4.17 in /usr/local/lib/python3.7/dist-packages (from requests>=2.19.0->datasets->pysentimiento) (2021.5.30)\n",
            "Requirement already satisfied: zipp>=0.5 in /usr/local/lib/python3.7/dist-packages (from importlib-metadata->datasets->pysentimiento) (3.5.0)\n",
            "Requirement already satisfied: python-dateutil>=2.7.3 in /usr/local/lib/python3.7/dist-packages (from pandas->datasets->pysentimiento) (2.8.1)\n",
            "Requirement already satisfied: pytz>=2017.2 in /usr/local/lib/python3.7/dist-packages (from pandas->datasets->pysentimiento) (2018.9)\n",
            "Requirement already satisfied: six>=1.5 in /usr/local/lib/python3.7/dist-packages (from python-dateutil>=2.7.3->pandas->datasets->pysentimiento) (1.15.0)\n",
            "Requirement already satisfied: scikit-learn in /usr/local/lib/python3.7/dist-packages (from sklearn->pysentimiento) (0.22.2.post1)\n",
            "Requirement already satisfied: scipy>=0.17.0 in /usr/local/lib/python3.7/dist-packages (from scikit-learn->sklearn->pysentimiento) (1.4.1)\n",
            "Requirement already satisfied: joblib>=0.11 in /usr/local/lib/python3.7/dist-packages (from scikit-learn->sklearn->pysentimiento) (1.0.1)\n",
            "Requirement already satisfied: pyyaml>=5.1 in /usr/local/lib/python3.7/dist-packages (from transformers->pysentimiento) (5.4.1)\n",
            "Requirement already satisfied: regex!=2019.12.17 in /usr/local/lib/python3.7/dist-packages (from transformers->pysentimiento) (2019.12.20)\n",
            "Requirement already satisfied: sacremoses in /usr/local/lib/python3.7/dist-packages (from transformers->pysentimiento) (0.0.45)\n",
            "Requirement already satisfied: tokenizers<0.11,>=0.10.1 in /usr/local/lib/python3.7/dist-packages (from transformers->pysentimiento) (0.10.3)\n",
            "Requirement already satisfied: click in /usr/local/lib/python3.7/dist-packages (from sacremoses->transformers->pysentimiento) (7.1.2)\n"
          ],
          "name": "stdout"
        }
      ]
    },
    {
      "cell_type": "code",
      "metadata": {
        "id": "vR-IDh55JXtH",
        "colab": {
          "base_uri": "https://localhost:8080/"
        },
        "outputId": "e04c30be-f322-47ec-8bf4-4df5d03c8998"
      },
      "source": [
        "from pysentimiento import SentimentAnalyzer\n",
        "analyzer = SentimentAnalyzer(lang=\"es\")"
      ],
      "execution_count": null,
      "outputs": [
        {
          "output_type": "stream",
          "text": [
            "loading configuration file https://huggingface.co/finiteautomata/beto-sentiment-analysis/resolve/main/config.json from cache at /root/.cache/huggingface/transformers/5a05f5030196584c1008a76ba75baf5097954bedc1254f53049e419a06db9c13.a81d12bca1c9aeb6443a21bbb594183a0b5ad9853dabb6383c2d13dd575c7219\n",
            "Model config BertConfig {\n",
            "  \"_name_or_path\": \"dccuchile/bert-base-spanish-wwm-cased\",\n",
            "  \"architectures\": [\n",
            "    \"BertForSequenceClassification\"\n",
            "  ],\n",
            "  \"attention_probs_dropout_prob\": 0.1,\n",
            "  \"gradient_checkpointing\": false,\n",
            "  \"hidden_act\": \"gelu\",\n",
            "  \"hidden_dropout_prob\": 0.1,\n",
            "  \"hidden_size\": 768,\n",
            "  \"id2label\": {\n",
            "    \"0\": \"NEG\",\n",
            "    \"1\": \"NEU\",\n",
            "    \"2\": \"POS\"\n",
            "  },\n",
            "  \"initializer_range\": 0.02,\n",
            "  \"intermediate_size\": 3072,\n",
            "  \"label2id\": {\n",
            "    \"NEG\": 0,\n",
            "    \"NEU\": 1,\n",
            "    \"POS\": 2\n",
            "  },\n",
            "  \"layer_norm_eps\": 1e-12,\n",
            "  \"max_position_embeddings\": 512,\n",
            "  \"model_type\": \"bert\",\n",
            "  \"num_attention_heads\": 12,\n",
            "  \"num_hidden_layers\": 12,\n",
            "  \"output_past\": true,\n",
            "  \"pad_token_id\": 1,\n",
            "  \"position_embedding_type\": \"absolute\",\n",
            "  \"problem_type\": \"single_label_classification\",\n",
            "  \"transformers_version\": \"4.9.1\",\n",
            "  \"type_vocab_size\": 2,\n",
            "  \"use_cache\": true,\n",
            "  \"vocab_size\": 31006\n",
            "}\n",
            "\n",
            "loading file https://huggingface.co/finiteautomata/beto-sentiment-analysis/resolve/main/vocab.txt from cache at /root/.cache/huggingface/transformers/748be8a67f60376b841eeecdd8ba20a5b01a86133ec67e8625bd679a9a7ac2a1.6587bde86239957281af55b2f7e564df111a2b4f9dfc0ad884f13ea7106e4dfb\n",
            "loading file https://huggingface.co/finiteautomata/beto-sentiment-analysis/resolve/main/tokenizer.json from cache at /root/.cache/huggingface/transformers/6a86c4ef1d56daa431e1bf2914e2808e3e60fed30a135b0d5079f4d90cb4383f.7bb78e6bcd16fd5afcc81f874d642c4c0e37c5a70d9c4cae22a5ef652a474211\n",
            "loading file https://huggingface.co/finiteautomata/beto-sentiment-analysis/resolve/main/added_tokens.json from cache at /root/.cache/huggingface/transformers/917381150ffc9b84ec5143d11358e953041c83ad649516f0567cfc8ec9a577b5.bfa923222a30ead2f0470e9c29d30b9661aee363096c3c29712940fde9558857\n",
            "loading file https://huggingface.co/finiteautomata/beto-sentiment-analysis/resolve/main/special_tokens_map.json from cache at /root/.cache/huggingface/transformers/f96a3d8fc45808721a6a1bc1aa5227703b243d0395087ffa320f857a4c7bad24.dd8bd9bfd3664b530ea4e645105f557769387b3da9f79bdb55ed556bdd80611d\n",
            "loading file https://huggingface.co/finiteautomata/beto-sentiment-analysis/resolve/main/tokenizer_config.json from cache at /root/.cache/huggingface/transformers/5d57473b5858896bd7df1c5971fe44389d8c2ca793ff168bdd557632dc7e43b2.6610639a3a01ef41e1083c8f282f39d442a64ca8691291be4444213bf598269d\n",
            "loading configuration file https://huggingface.co/finiteautomata/beto-sentiment-analysis/resolve/main/config.json from cache at /root/.cache/huggingface/transformers/5a05f5030196584c1008a76ba75baf5097954bedc1254f53049e419a06db9c13.a81d12bca1c9aeb6443a21bbb594183a0b5ad9853dabb6383c2d13dd575c7219\n",
            "Model config BertConfig {\n",
            "  \"_name_or_path\": \"dccuchile/bert-base-spanish-wwm-cased\",\n",
            "  \"architectures\": [\n",
            "    \"BertForSequenceClassification\"\n",
            "  ],\n",
            "  \"attention_probs_dropout_prob\": 0.1,\n",
            "  \"gradient_checkpointing\": false,\n",
            "  \"hidden_act\": \"gelu\",\n",
            "  \"hidden_dropout_prob\": 0.1,\n",
            "  \"hidden_size\": 768,\n",
            "  \"id2label\": {\n",
            "    \"0\": \"NEG\",\n",
            "    \"1\": \"NEU\",\n",
            "    \"2\": \"POS\"\n",
            "  },\n",
            "  \"initializer_range\": 0.02,\n",
            "  \"intermediate_size\": 3072,\n",
            "  \"label2id\": {\n",
            "    \"NEG\": 0,\n",
            "    \"NEU\": 1,\n",
            "    \"POS\": 2\n",
            "  },\n",
            "  \"layer_norm_eps\": 1e-12,\n",
            "  \"max_position_embeddings\": 512,\n",
            "  \"model_type\": \"bert\",\n",
            "  \"num_attention_heads\": 12,\n",
            "  \"num_hidden_layers\": 12,\n",
            "  \"output_past\": true,\n",
            "  \"pad_token_id\": 1,\n",
            "  \"position_embedding_type\": \"absolute\",\n",
            "  \"problem_type\": \"single_label_classification\",\n",
            "  \"transformers_version\": \"4.9.1\",\n",
            "  \"type_vocab_size\": 2,\n",
            "  \"use_cache\": true,\n",
            "  \"vocab_size\": 31006\n",
            "}\n",
            "\n",
            "loading configuration file https://huggingface.co/finiteautomata/beto-sentiment-analysis/resolve/main/config.json from cache at /root/.cache/huggingface/transformers/5a05f5030196584c1008a76ba75baf5097954bedc1254f53049e419a06db9c13.a81d12bca1c9aeb6443a21bbb594183a0b5ad9853dabb6383c2d13dd575c7219\n",
            "Model config BertConfig {\n",
            "  \"_name_or_path\": \"dccuchile/bert-base-spanish-wwm-cased\",\n",
            "  \"architectures\": [\n",
            "    \"BertForSequenceClassification\"\n",
            "  ],\n",
            "  \"attention_probs_dropout_prob\": 0.1,\n",
            "  \"gradient_checkpointing\": false,\n",
            "  \"hidden_act\": \"gelu\",\n",
            "  \"hidden_dropout_prob\": 0.1,\n",
            "  \"hidden_size\": 768,\n",
            "  \"id2label\": {\n",
            "    \"0\": \"NEG\",\n",
            "    \"1\": \"NEU\",\n",
            "    \"2\": \"POS\"\n",
            "  },\n",
            "  \"initializer_range\": 0.02,\n",
            "  \"intermediate_size\": 3072,\n",
            "  \"label2id\": {\n",
            "    \"NEG\": 0,\n",
            "    \"NEU\": 1,\n",
            "    \"POS\": 2\n",
            "  },\n",
            "  \"layer_norm_eps\": 1e-12,\n",
            "  \"max_position_embeddings\": 512,\n",
            "  \"model_type\": \"bert\",\n",
            "  \"num_attention_heads\": 12,\n",
            "  \"num_hidden_layers\": 12,\n",
            "  \"output_past\": true,\n",
            "  \"pad_token_id\": 1,\n",
            "  \"position_embedding_type\": \"absolute\",\n",
            "  \"problem_type\": \"single_label_classification\",\n",
            "  \"transformers_version\": \"4.9.1\",\n",
            "  \"type_vocab_size\": 2,\n",
            "  \"use_cache\": true,\n",
            "  \"vocab_size\": 31006\n",
            "}\n",
            "\n",
            "loading weights file https://huggingface.co/finiteautomata/beto-sentiment-analysis/resolve/main/pytorch_model.bin from cache at /root/.cache/huggingface/transformers/3f107c597778f1033f2debc6fae30d5c2ec828b9faba7f45a250ac3784903aca.3c97c999b2e0d2b150bdcd7de56803abe68e2813818ab0f4a170946942b38c03\n",
            "All model checkpoint weights were used when initializing BertForSequenceClassification.\n",
            "\n",
            "All the weights of BertForSequenceClassification were initialized from the model checkpoint at finiteautomata/beto-sentiment-analysis.\n",
            "If your task is similar to the task the model of the checkpoint was trained on, you can already use BertForSequenceClassification for predictions without further training.\n",
            "PyTorch: setting up devices\n",
            "The default value for the training argument `--report_to` will change in v5 (from all installed integrations to none). In v5, you will need to use `--report_to all` to get the same behavior as now. You should start updating your code and make this info disappear :-).\n"
          ],
          "name": "stderr"
        }
      ]
    },
    {
      "cell_type": "code",
      "metadata": {
        "colab": {
          "base_uri": "https://localhost:8080/",
          "height": 225,
          "referenced_widgets": [
            "bdbda3ab0a454149b3336027a0cb1aa1",
            "5ffbc6e9822747e6a995eb8527e5b187",
            "721139fc9a8445aa8dcdd67af6901494",
            "9a7a5e2b62f441d68cbbaedf745c358e",
            "46e36c3b25eb4513b3efb44e96858d71",
            "fa4d55ff8de34fec9d960b4f3825d26c",
            "94cff74b2b644429b880109be85f51ae",
            "36be939190e84e999b3ce3509029d32e",
            "0723e5392b334dfc8e0d741fc58c384c",
            "e3eb89bae21844a8b53fb39533350459",
            "f7aa833e2ec24a83b80fe5c0e4c8a8d3"
          ]
        },
        "id": "u2pTBuXVKxdg",
        "outputId": "780bbf80-5026-4bc6-83c3-c6aa56b6c69f"
      },
      "source": [
        "def sentiments(lista):\n",
        "  sentimientos = {'Positivos':0, 'Neutral':0, 'Negativo':0}\n",
        "  negativo = []\n",
        "  x = analyzer.predict(lista[0])\n",
        "  for item in x:\n",
        "    if(item.output == 'POS'):\n",
        "      sentimientos['Positivos'] = sentimientos['Positivos'] + 1\n",
        "    elif(item.output == 'NEU'):\n",
        "      sentimientos['Neutral'] = sentimientos['Neutral'] + 1\n",
        "    else:\n",
        "      sentimientos['Negativo'] = sentimientos['Negativo'] + 1\n",
        "      negativo.append(item.sentence)\n",
        "  for item in negativo:\n",
        "    print(item)\n",
        "  return(sentimientos)\n",
        "\n",
        "sentimientos = sentiments(lista)\n",
        "\n"
      ],
      "execution_count": null,
      "outputs": [
        {
          "output_type": "display_data",
          "data": {
            "application/vnd.jupyter.widget-view+json": {
              "model_id": "bdbda3ab0a454149b3336027a0cb1aa1",
              "version_minor": 0,
              "version_major": 2
            },
            "text/plain": [
              "  0%|          | 0/4 [00:00<?, ?ba/s]"
            ]
          },
          "metadata": {
            "tags": []
          }
        },
        {
          "output_type": "stream",
          "text": [
            "The following columns in the test set  don't have a corresponding argument in `BertForSequenceClassification.forward` and have been ignored: text.\n",
            "***** Running Prediction *****\n",
            "  Num examples = 103\n",
            "  Batch size = 32\n"
          ],
          "name": "stderr"
        },
        {
          "output_type": "stream",
          "text": [
            "103\n"
          ],
          "name": "stdout"
        },
        {
          "output_type": "display_data",
          "data": {
            "text/html": [
              "\n",
              "    <div>\n",
              "      \n",
              "      <progress value='15' max='4' style='width:300px; height:20px; vertical-align: middle;'></progress>\n",
              "      [4/4 1:46:18]\n",
              "    </div>\n",
              "    "
            ],
            "text/plain": [
              "<IPython.core.display.HTML object>"
            ]
          },
          "metadata": {
            "tags": []
          }
        },
        {
          "output_type": "stream",
          "text": [
            "Colocan vacantes y rechazan sin justificación a los postulados, dicen que no se requieren experiencia en las vacantes que dan oportunidad de aprendizaje, y terminan rechazando al postulado, es un total fraude, deberían bloquear esta empresa.\n",
            "Exelente empresa, con grandes retos, muy buenas comisiones, pero pésimo trato hacia sus empleados.\n",
            "Empresa con buen salario y puntualidad en pagos, demasiada competitivividad laboral.\n"
          ],
          "name": "stdout"
        }
      ]
    },
    {
      "cell_type": "code",
      "metadata": {
        "colab": {
          "base_uri": "https://localhost:8080/"
        },
        "id": "pk_oLO5CQ52T",
        "outputId": "6a072336-c493-4fd8-95b9-9152b1364923"
      },
      "source": [
        "sentimientos"
      ],
      "execution_count": null,
      "outputs": [
        {
          "output_type": "execute_result",
          "data": {
            "text/plain": [
              "{'Negativo': 3, 'Neutral': 16, 'Positivos': 84}"
            ]
          },
          "metadata": {
            "tags": []
          },
          "execution_count": 63
        }
      ]
    },
    {
      "cell_type": "code",
      "metadata": {
        "colab": {
          "base_uri": "https://localhost:8080/",
          "height": 295
        },
        "id": "mOE8IenKPhIq",
        "outputId": "798acea7-dff6-4130-93e9-45529ba45f1c"
      },
      "source": [
        "import matplotlib.pyplot as plt\n",
        "## Declaramos valores para el eje x\n",
        "eje_x = sentimientos.keys()\n",
        " \n",
        "## Declaramos valores para el eje y\n",
        "eje_y = sentimientos.values()\n",
        " \n",
        "## Creamos Gráfica\n",
        "plt.bar(eje_x, eje_y)\n",
        " \n",
        "## Legenda en el eje y\n",
        "plt.ylabel('Cantidad de Evaluaciones')\n",
        " \n",
        "## Legenda en el eje x\n",
        "plt.xlabel('Sentimiento')\n",
        " \n",
        "## Título de Gráfica\n",
        "plt.title('Sentimientos')\n",
        " \n",
        "## Mostramos Gráfica\n",
        "plt.show()\n"
      ],
      "execution_count": null,
      "outputs": [
        {
          "output_type": "display_data",
          "data": {
            "image/png": "[encoded data removed]",
            "text/plain": [
              "<Figure size 432x288 with 1 Axes>"
            ]
          },
          "metadata": {
            "tags": [],
            "needs_background": "light"
          }
        }
      ]
    },
    {
      "cell_type": "code",
      "metadata": {
        "id": "8KM7M-Mkds8g"
      },
      "source": [
        "import pandas as pd\n",
        "df = pd.DataFrame(evaluaciones)"
      ],
      "execution_count": null,
      "outputs": []
    },
    {
      "cell_type": "code",
      "metadata": {
        "colab": {
          "base_uri": "https://localhost:8080/",
          "height": 374
        },
        "id": "0Kcnc870SGqy",
        "outputId": "53a6c23c-6119-4d44-89aa-037a80588316"
      },
      "source": [
        "\n",
        "fecha = df['fecha']\n",
        "puesto_df = df['puesto']\n",
        "df.head(5)"
      ],
      "execution_count": null,
      "outputs": [
        {
          "output_type": "execute_result",
          "data": {
            "text/html": [
              "<div>\n",
              "<style scoped>\n",
              "    .dataframe tbody tr th:only-of-type {\n",
              "        vertical-align: middle;\n",
              "    }\n",
              "\n",
              "    .dataframe tbody tr th {\n",
              "        vertical-align: top;\n",
              "    }\n",
              "\n",
              "    .dataframe thead th {\n",
              "        text-align: right;\n",
              "    }\n",
              "</style>\n",
              "<table border=\"1\" class=\"dataframe\">\n",
              "  <thead>\n",
              "    <tr style=\"text-align: right;\">\n",
              "      <th></th>\n",
              "      <th>puesto</th>\n",
              "      <th>estado</th>\n",
              "      <th>ubicacion</th>\n",
              "      <th>fecha</th>\n",
              "      <th>comentario</th>\n",
              "      <th>bueno</th>\n",
              "      <th>mejorar</th>\n",
              "    </tr>\n",
              "  </thead>\n",
              "  <tbody>\n",
              "    <tr>\n",
              "      <th>0</th>\n",
              "      <td>CONDUCTOR TANATOLOGO</td>\n",
              "      <td>Actual empleado</td>\n",
              "      <td>Boyacá</td>\n",
              "      <td>6 de julio, 2021</td>\n",
              "      <td>Colocan vacantes y rechazan sin justificación ...</td>\n",
              "      <td>.</td>\n",
              "      <td>.</td>\n",
              "    </tr>\n",
              "    <tr>\n",
              "      <th>1</th>\n",
              "      <td>Asesor académico</td>\n",
              "      <td>Antiguo empleado</td>\n",
              "      <td>Bolívar</td>\n",
              "      <td>27 de junio, 2021</td>\n",
              "      <td>Exelente empresa</td>\n",
              "      <td>Asesor y  supervisors</td>\n",
              "      <td>Exelente horario</td>\n",
              "    </tr>\n",
              "    <tr>\n",
              "      <th>2</th>\n",
              "      <td>Asesor</td>\n",
              "      <td>Antiguo empleado</td>\n",
              "      <td>Antioquia</td>\n",
              "      <td>20 de junio, 2021</td>\n",
              "      <td>muy buena empresa</td>\n",
              "      <td>Vacio</td>\n",
              "      <td>nada</td>\n",
              "    </tr>\n",
              "    <tr>\n",
              "      <th>3</th>\n",
              "      <td>Ejecutivo de ventas</td>\n",
              "      <td>Antiguo empleado</td>\n",
              "      <td>Bogotá, D.C.</td>\n",
              "      <td>13 de mayo, 2021</td>\n",
              "      <td>Una excelente empresa con grandes beneficios  ...</td>\n",
              "      <td>El poder Asender de puesto de acuerdo a las ha...</td>\n",
              "      <td>nada</td>\n",
              "    </tr>\n",
              "    <tr>\n",
              "      <th>4</th>\n",
              "      <td>Ejecutiva comercial</td>\n",
              "      <td>Actual empleado</td>\n",
              "      <td>Bogotá, D.C.</td>\n",
              "      <td>12 de mayo, 2021</td>\n",
              "      <td>Una excelente empresa para generar ingresos y ...</td>\n",
              "      <td>Crecer financieramente</td>\n",
              "      <td>ambiente laboral, trato al empleado</td>\n",
              "    </tr>\n",
              "  </tbody>\n",
              "</table>\n",
              "</div>"
            ],
            "text/plain": [
              "                 puesto  ...                              mejorar\n",
              "0  CONDUCTOR TANATOLOGO  ...                                    .\n",
              "1      Asesor académico  ...                     Exelente horario\n",
              "2                Asesor  ...                                 nada\n",
              "3   Ejecutivo de ventas  ...                                 nada\n",
              "4   Ejecutiva comercial  ...  ambiente laboral, trato al empleado\n",
              "\n",
              "[5 rows x 7 columns]"
            ]
          },
          "metadata": {
            "tags": []
          },
          "execution_count": 140
        }
      ]
    },
    {
      "cell_type": "code",
      "metadata": {
        "colab": {
          "base_uri": "https://localhost:8080/",
          "height": 419
        },
        "id": "MtDKxHMUuk8n",
        "outputId": "77c1e63e-3a30-4129-ba47-b1d8fefde903"
      },
      "source": [
        "\n",
        "mejora = df['mejorar'].groupby(df['mejorar'].tolist()).size().reset_index().\\\n",
        "    rename(columns={0:'records'})\n",
        "mejora.columns = ['mejorar', 'cantidad']\n",
        "\n",
        "\n",
        "df_merge = pd.merge(mejora, df, on='mejorar')\n",
        "df_merge.drop(['estado','ubicacion','comentario','bueno'], axis=1, inplace=True)\n",
        "df_merge.head(70)\n"
      ],
      "execution_count": null,
      "outputs": [
        {
          "output_type": "execute_result",
          "data": {
            "text/html": [
              "<div>\n",
              "<style scoped>\n",
              "    .dataframe tbody tr th:only-of-type {\n",
              "        vertical-align: middle;\n",
              "    }\n",
              "\n",
              "    .dataframe tbody tr th {\n",
              "        vertical-align: top;\n",
              "    }\n",
              "\n",
              "    .dataframe thead th {\n",
              "        text-align: right;\n",
              "    }\n",
              "</style>\n",
              "<table border=\"1\" class=\"dataframe\">\n",
              "  <thead>\n",
              "    <tr style=\"text-align: right;\">\n",
              "      <th></th>\n",
              "      <th>mejorar</th>\n",
              "      <th>cantidad</th>\n",
              "      <th>puesto</th>\n",
              "      <th>fecha</th>\n",
              "    </tr>\n",
              "  </thead>\n",
              "  <tbody>\n",
              "    <tr>\n",
              "      <th>0</th>\n",
              "      <td>.</td>\n",
              "      <td>1</td>\n",
              "      <td>CONDUCTOR TANATOLOGO</td>\n",
              "      <td>6 de julio, 2021</td>\n",
              "    </tr>\n",
              "    <tr>\n",
              "      <th>1</th>\n",
              "      <td>Ambiente laboral</td>\n",
              "      <td>1</td>\n",
              "      <td>Asesor</td>\n",
              "      <td>7 de junio, 2019</td>\n",
              "    </tr>\n",
              "    <tr>\n",
              "      <th>2</th>\n",
              "      <td>Atención alos trabajadores</td>\n",
              "      <td>1</td>\n",
              "      <td>Asesor/a comercial puerta a puerta</td>\n",
              "      <td>17 de enero, 2019</td>\n",
              "    </tr>\n",
              "    <tr>\n",
              "      <th>3</th>\n",
              "      <td>Bienestar del trabajador</td>\n",
              "      <td>1</td>\n",
              "      <td>Ejecutiva de ventas</td>\n",
              "      <td>28 de marzo, 2019</td>\n",
              "    </tr>\n",
              "    <tr>\n",
              "      <th>4</th>\n",
              "      <td>Calidad humana</td>\n",
              "      <td>1</td>\n",
              "      <td>Asesora ponal</td>\n",
              "      <td>24 de abril, 2020</td>\n",
              "    </tr>\n",
              "    <tr>\n",
              "      <th>...</th>\n",
              "      <td>...</td>\n",
              "      <td>...</td>\n",
              "      <td>...</td>\n",
              "      <td>...</td>\n",
              "    </tr>\n",
              "    <tr>\n",
              "      <th>65</th>\n",
              "      <td>nada</td>\n",
              "      <td>62</td>\n",
              "      <td>Asesora de cobranzas</td>\n",
              "      <td>4 de septiembre, 2018</td>\n",
              "    </tr>\n",
              "    <tr>\n",
              "      <th>66</th>\n",
              "      <td>nada</td>\n",
              "      <td>62</td>\n",
              "      <td>Asesor/a comercial puerta a puerta</td>\n",
              "      <td>3 de agosto, 2018</td>\n",
              "    </tr>\n",
              "    <tr>\n",
              "      <th>67</th>\n",
              "      <td>nada</td>\n",
              "      <td>62</td>\n",
              "      <td>Telemercaderista</td>\n",
              "      <td>30 de julio, 2018</td>\n",
              "    </tr>\n",
              "    <tr>\n",
              "      <th>68</th>\n",
              "      <td>nada</td>\n",
              "      <td>62</td>\n",
              "      <td>Ejecutivo compras</td>\n",
              "      <td>7 de junio, 2018</td>\n",
              "    </tr>\n",
              "    <tr>\n",
              "      <th>69</th>\n",
              "      <td>nada</td>\n",
              "      <td>62</td>\n",
              "      <td>Asesora comercial</td>\n",
              "      <td>28 de mayo, 2018</td>\n",
              "    </tr>\n",
              "  </tbody>\n",
              "</table>\n",
              "<p>70 rows × 4 columns</p>\n",
              "</div>"
            ],
            "text/plain": [
              "                       mejorar  ...                  fecha\n",
              "0                            .  ...       6 de julio, 2021\n",
              "1             Ambiente laboral  ...       7 de junio, 2019\n",
              "2   Atención alos trabajadores  ...      17 de enero, 2019\n",
              "3     Bienestar del trabajador  ...      28 de marzo, 2019\n",
              "4               Calidad humana  ...      24 de abril, 2020\n",
              "..                         ...  ...                    ...\n",
              "65                        nada  ...  4 de septiembre, 2018\n",
              "66                        nada  ...      3 de agosto, 2018\n",
              "67                        nada  ...      30 de julio, 2018\n",
              "68                        nada  ...       7 de junio, 2018\n",
              "69                        nada  ...       28 de mayo, 2018\n",
              "\n",
              "[70 rows x 4 columns]"
            ]
          },
          "metadata": {
            "tags": []
          },
          "execution_count": 141
        }
      ]
    },
    {
      "cell_type": "code",
      "metadata": {
        "id": "Uqi1CWkn7GJS"
      },
      "source": [
        "df_merge.to_excel('mejora.xlsx', sheet_name='example')"
      ],
      "execution_count": null,
      "outputs": []
    },
    {
      "cell_type": "code",
      "metadata": {
        "colab": {
          "base_uri": "https://localhost:8080/",
          "height": 419
        },
        "id": "UQd0hbH5w4hF",
        "outputId": "4d937116-833e-45ec-e3ab-f2bd82dd048b"
      },
      "source": [
        "puesto = df['puesto'].groupby(df['puesto'].tolist()).size().reset_index().\\\n",
        "    rename(columns={0:'records'})\n",
        "puesto"
      ],
      "execution_count": null,
      "outputs": [
        {
          "output_type": "execute_result",
          "data": {
            "text/html": [
              "<div>\n",
              "<style scoped>\n",
              "    .dataframe tbody tr th:only-of-type {\n",
              "        vertical-align: middle;\n",
              "    }\n",
              "\n",
              "    .dataframe tbody tr th {\n",
              "        vertical-align: top;\n",
              "    }\n",
              "\n",
              "    .dataframe thead th {\n",
              "        text-align: right;\n",
              "    }\n",
              "</style>\n",
              "<table border=\"1\" class=\"dataframe\">\n",
              "  <thead>\n",
              "    <tr style=\"text-align: right;\">\n",
              "      <th></th>\n",
              "      <th>index</th>\n",
              "      <th>puesto</th>\n",
              "    </tr>\n",
              "  </thead>\n",
              "  <tbody>\n",
              "    <tr>\n",
              "      <th>0</th>\n",
              "      <td>Afiliadora</td>\n",
              "      <td>1</td>\n",
              "    </tr>\n",
              "    <tr>\n",
              "      <th>1</th>\n",
              "      <td>Agente de atención al cliente</td>\n",
              "      <td>1</td>\n",
              "    </tr>\n",
              "    <tr>\n",
              "      <th>2</th>\n",
              "      <td>Analista de cartera empresarial</td>\n",
              "      <td>1</td>\n",
              "    </tr>\n",
              "    <tr>\n",
              "      <th>3</th>\n",
              "      <td>Asesor</td>\n",
              "      <td>4</td>\n",
              "    </tr>\n",
              "    <tr>\n",
              "      <th>4</th>\n",
              "      <td>Asesor académico</td>\n",
              "      <td>1</td>\n",
              "    </tr>\n",
              "    <tr>\n",
              "      <th>...</th>\n",
              "      <td>...</td>\n",
              "      <td>...</td>\n",
              "    </tr>\n",
              "    <tr>\n",
              "      <th>58</th>\n",
              "      <td>asesor ministerio de defensa</td>\n",
              "      <td>1</td>\n",
              "    </tr>\n",
              "    <tr>\n",
              "      <th>59</th>\n",
              "      <td>coordinadora de servicios</td>\n",
              "      <td>1</td>\n",
              "    </tr>\n",
              "    <tr>\n",
              "      <th>60</th>\n",
              "      <td>coordinadora regional</td>\n",
              "      <td>1</td>\n",
              "    </tr>\n",
              "    <tr>\n",
              "      <th>61</th>\n",
              "      <td>si</td>\n",
              "      <td>1</td>\n",
              "    </tr>\n",
              "    <tr>\n",
              "      <th>62</th>\n",
              "      <td>tanatologa</td>\n",
              "      <td>1</td>\n",
              "    </tr>\n",
              "  </tbody>\n",
              "</table>\n",
              "<p>63 rows × 2 columns</p>\n",
              "</div>"
            ],
            "text/plain": [
              "                              index  puesto\n",
              "0                        Afiliadora       1\n",
              "1     Agente de atención al cliente       1\n",
              "2   Analista de cartera empresarial       1\n",
              "3                            Asesor       4\n",
              "4                  Asesor académico       1\n",
              "..                              ...     ...\n",
              "58     asesor ministerio de defensa       1\n",
              "59        coordinadora de servicios       1\n",
              "60            coordinadora regional       1\n",
              "61                               si       1\n",
              "62                       tanatologa       1\n",
              "\n",
              "[63 rows x 2 columns]"
            ]
          },
          "metadata": {
            "tags": []
          },
          "execution_count": 142
        }
      ]
    },
    {
      "cell_type": "code",
      "metadata": {
        "colab": {
          "base_uri": "https://localhost:8080/",
          "height": 346
        },
        "id": "akLALTeBw_ng",
        "outputId": "a07064dd-a52c-4882-8fe0-dd885358b0d7"
      },
      "source": [
        "estado = df['estado'].groupby(df['estado'].tolist()).size().reset_index().\\\n",
        "    rename(columns={0:'records'})\n",
        "estado\n",
        "\n",
        "eje_x = estado['index']\n",
        " \n",
        "## Declaramos valores para el eje y\n",
        "eje_y = estado['estado']\n",
        " \n",
        "## Creamos Gráfica\n",
        "plt.bar(eje_x, eje_y)\n",
        " \n",
        "## Legenda en el eje y\n",
        "plt.ylabel('Cantidad de Evaluaciones')\n",
        " \n",
        "## Legenda en el eje x\n",
        "plt.xlabel('Sentimiento')\n",
        " \n",
        "## Título de Gráfica\n",
        "plt.title('Sentimientos')\n",
        " \n",
        "## Mostramos Gráfica\n",
        "plt.show()\n",
        "\n",
        "print(estado)"
      ],
      "execution_count": null,
      "outputs": [
        {
          "output_type": "display_data",
          "data": {
            "image/png": "[encoded data removed]",
            "text/plain": [
              "<Figure size 432x288 with 1 Axes>"
            ]
          },
          "metadata": {
            "tags": [],
            "needs_background": "light"
          }
        },
        {
          "output_type": "stream",
          "text": [
            "              index  estado\n",
            "0   Actual empleado      14\n",
            "1  Antiguo empleado      89\n"
          ],
          "name": "stdout"
        }
      ]
    },
    {
      "cell_type": "code",
      "metadata": {
        "colab": {
          "base_uri": "https://localhost:8080/",
          "height": 545
        },
        "id": "QDSTyOhExUu-",
        "outputId": "845293b9-ed1c-430d-9e3d-651f9a781473"
      },
      "source": [
        "ubicacion = df['ubicacion'].groupby(df['ubicacion'].tolist()).size().reset_index().\\\n",
        "    rename(columns={0:'records'})\n",
        "ubicacion"
      ],
      "execution_count": null,
      "outputs": [
        {
          "output_type": "execute_result",
          "data": {
            "text/html": [
              "<div>\n",
              "<style scoped>\n",
              "    .dataframe tbody tr th:only-of-type {\n",
              "        vertical-align: middle;\n",
              "    }\n",
              "\n",
              "    .dataframe tbody tr th {\n",
              "        vertical-align: top;\n",
              "    }\n",
              "\n",
              "    .dataframe thead th {\n",
              "        text-align: right;\n",
              "    }\n",
              "</style>\n",
              "<table border=\"1\" class=\"dataframe\">\n",
              "  <thead>\n",
              "    <tr style=\"text-align: right;\">\n",
              "      <th></th>\n",
              "      <th>index</th>\n",
              "      <th>ubicacion</th>\n",
              "    </tr>\n",
              "  </thead>\n",
              "  <tbody>\n",
              "    <tr>\n",
              "      <th>0</th>\n",
              "      <td>Antioquia</td>\n",
              "      <td>5</td>\n",
              "    </tr>\n",
              "    <tr>\n",
              "      <th>1</th>\n",
              "      <td>Atlántico</td>\n",
              "      <td>8</td>\n",
              "    </tr>\n",
              "    <tr>\n",
              "      <th>2</th>\n",
              "      <td>Bogotá, D.C.</td>\n",
              "      <td>58</td>\n",
              "    </tr>\n",
              "    <tr>\n",
              "      <th>3</th>\n",
              "      <td>Bolívar</td>\n",
              "      <td>5</td>\n",
              "    </tr>\n",
              "    <tr>\n",
              "      <th>4</th>\n",
              "      <td>Boyacá</td>\n",
              "      <td>1</td>\n",
              "    </tr>\n",
              "    <tr>\n",
              "      <th>5</th>\n",
              "      <td>Caquetá</td>\n",
              "      <td>1</td>\n",
              "    </tr>\n",
              "    <tr>\n",
              "      <th>6</th>\n",
              "      <td>Casanare</td>\n",
              "      <td>1</td>\n",
              "    </tr>\n",
              "    <tr>\n",
              "      <th>7</th>\n",
              "      <td>Cauca</td>\n",
              "      <td>1</td>\n",
              "    </tr>\n",
              "    <tr>\n",
              "      <th>8</th>\n",
              "      <td>Cundinamarca</td>\n",
              "      <td>6</td>\n",
              "    </tr>\n",
              "    <tr>\n",
              "      <th>9</th>\n",
              "      <td>Córdoba</td>\n",
              "      <td>4</td>\n",
              "    </tr>\n",
              "    <tr>\n",
              "      <th>10</th>\n",
              "      <td>Huila</td>\n",
              "      <td>1</td>\n",
              "    </tr>\n",
              "    <tr>\n",
              "      <th>11</th>\n",
              "      <td>Nariño</td>\n",
              "      <td>1</td>\n",
              "    </tr>\n",
              "    <tr>\n",
              "      <th>12</th>\n",
              "      <td>Quindio</td>\n",
              "      <td>2</td>\n",
              "    </tr>\n",
              "    <tr>\n",
              "      <th>13</th>\n",
              "      <td>Risaralda</td>\n",
              "      <td>1</td>\n",
              "    </tr>\n",
              "    <tr>\n",
              "      <th>14</th>\n",
              "      <td>Santander</td>\n",
              "      <td>4</td>\n",
              "    </tr>\n",
              "    <tr>\n",
              "      <th>15</th>\n",
              "      <td>Valle del Cauca</td>\n",
              "      <td>4</td>\n",
              "    </tr>\n",
              "  </tbody>\n",
              "</table>\n",
              "</div>"
            ],
            "text/plain": [
              "              index  ubicacion\n",
              "0         Antioquia          5\n",
              "1         Atlántico          8\n",
              "2      Bogotá, D.C.         58\n",
              "3           Bolívar          5\n",
              "4            Boyacá          1\n",
              "5           Caquetá          1\n",
              "6          Casanare          1\n",
              "7             Cauca          1\n",
              "8      Cundinamarca          6\n",
              "9           Córdoba          4\n",
              "10            Huila          1\n",
              "11           Nariño          1\n",
              "12          Quindio          2\n",
              "13        Risaralda          1\n",
              "14        Santander          4\n",
              "15  Valle del Cauca          4"
            ]
          },
          "metadata": {
            "tags": []
          },
          "execution_count": 144
        }
      ]
    },
    {
      "cell_type": "code",
      "metadata": {
        "id": "E8JRf3mf0rIu"
      },
      "source": [
        "df.to_excel('computrabajo.xlsx', sheet_name='example')"
      ],
      "execution_count": null,
      "outputs": []
    }
  ]
}